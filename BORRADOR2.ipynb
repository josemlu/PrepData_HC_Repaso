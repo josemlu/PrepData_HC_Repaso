{
 "cells": [
  {
   "cell_type": "code",
   "execution_count": 2,
   "metadata": {},
   "outputs": [],
   "source": [
    "def DividirDosNumeros(dividendo, divisor):\n",
    "    '''\n",
    "    Esta función devuelve dos valores, la parte entera de la división y su resto\n",
    "    Recibe dos argumentos:\n",
    "        dividendo: El número que va a ser dividido\n",
    "        divisor: El número que va a dividir\n",
    "    Ej:\n",
    "        DividirDosNumeros(10,3) debe retornar 3, 1\n",
    "    '''\n",
    "    parte_entera = None\n",
    "    resto = None\n",
    "    #Tu código aca:\n",
    "    resto = dividendo%divisor\n",
    "    parte_entera = dividendo//divisor\n",
    "    return parte_entera , resto"
   ]
  },
  {
   "cell_type": "code",
   "execution_count": 8,
   "metadata": {},
   "outputs": [
    {
     "data": {
      "text/plain": [
       "(3, 1)"
      ]
     },
     "execution_count": 8,
     "metadata": {},
     "output_type": "execute_result"
    }
   ],
   "source": [
    "DividirDosNumeros (10,3)"
   ]
  },
  {
   "cell_type": "code",
   "execution_count": 18,
   "metadata": {},
   "outputs": [],
   "source": [
    "def ProximoPrimo(actual_primo):\n",
    "    '''\n",
    "    Esta función devuelve el número primo siguiente al enviado como parámetro.\n",
    "    En caso de que el parámetro no sea de tipo entero y/o no sea un número primo, debe retornar nulo.\n",
    "    Recibe un argumento:\n",
    "        actual_primo: Será el número primo a partir del cual debo buscar el siguiente\n",
    "    Ej:\n",
    "        ProximoPrimo(7) debe retornar 11\n",
    "        ProximoPrimo(8) debe retornar nulo\n",
    "    '''\n",
    "    #Tu código aca:\n",
    "    def primo(n):\n",
    "        primo = True\n",
    "        for i in range(2,n):\n",
    "            if (n%i==0):\n",
    "                primo = False\n",
    "                break\n",
    "        return primo\n",
    "\n",
    "    if type(actual_primo) != int:\n",
    "        return None\n",
    "    if primo(actual_primo) == False: \n",
    "        return None\n",
    "    else:\n",
    "        siguiente_primo = actual_primo + 1\n",
    "        while (primo (siguiente_primo) == False):\n",
    "            siguiente_primo = siguiente_primo + 1 #siguiente_primo += 1\n",
    "\n",
    "        return siguiente_primo    \n",
    "        "
   ]
  },
  {
   "cell_type": "code",
   "execution_count": 25,
   "metadata": {},
   "outputs": [
    {
     "data": {
      "text/plain": [
       "11"
      ]
     },
     "execution_count": 25,
     "metadata": {},
     "output_type": "execute_result"
    }
   ],
   "source": [
    "ProximoPrimo(7)"
   ]
  },
  {
   "cell_type": "code",
   "execution_count": null,
   "metadata": {},
   "outputs": [],
   "source": []
  },
  {
   "cell_type": "code",
   "execution_count": 16,
   "metadata": {},
   "outputs": [
    {
     "name": "stdout",
     "output_type": "stream",
     "text": [
      "11\n"
     ]
    }
   ],
   "source": [
    "actual_primo = 7\n"
   ]
  }
 ],
 "metadata": {
  "kernelspec": {
   "display_name": "Python 3",
   "language": "python",
   "name": "python3"
  },
  "language_info": {
   "codemirror_mode": {
    "name": "ipython",
    "version": 3
   },
   "file_extension": ".py",
   "mimetype": "text/x-python",
   "name": "python",
   "nbconvert_exporter": "python",
   "pygments_lexer": "ipython3",
   "version": "3.11.2"
  },
  "orig_nbformat": 4,
  "vscode": {
   "interpreter": {
    "hash": "0bb0d54e20d7c081b26c2c166f183528f73ceeec261144009ab6a2c66c6ba2cd"
   }
  }
 },
 "nbformat": 4,
 "nbformat_minor": 2
}
