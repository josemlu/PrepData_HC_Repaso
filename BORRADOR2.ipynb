{
 "cells": [
  {
   "cell_type": "code",
   "execution_count": 2,
   "metadata": {},
   "outputs": [],
   "source": [
    "def DividirDosNumeros(dividendo, divisor):\n",
    "    '''\n",
    "    Esta función devuelve dos valores, la parte entera de la división y su resto\n",
    "    Recibe dos argumentos:\n",
    "        dividendo: El número que va a ser dividido\n",
    "        divisor: El número que va a dividir\n",
    "    Ej:\n",
    "        DividirDosNumeros(10,3) debe retornar 3, 1\n",
    "    '''\n",
    "    parte_entera = None\n",
    "    resto = None\n",
    "    #Tu código aca:\n",
    "    resto = dividendo%divisor\n",
    "    parte_entera = dividendo//divisor\n",
    "    return parte_entera , resto"
   ]
  },
  {
   "cell_type": "code",
   "execution_count": 8,
   "metadata": {},
   "outputs": [
    {
     "data": {
      "text/plain": [
       "(3, 1)"
      ]
     },
     "execution_count": 8,
     "metadata": {},
     "output_type": "execute_result"
    }
   ],
   "source": [
    "DividirDosNumeros (10,3)"
   ]
  },
  {
   "cell_type": "code",
   "execution_count": null,
   "metadata": {},
   "outputs": [],
   "source": []
  }
 ],
 "metadata": {
  "kernelspec": {
   "display_name": "Python 3",
   "language": "python",
   "name": "python3"
  },
  "language_info": {
   "codemirror_mode": {
    "name": "ipython",
    "version": 3
   },
   "file_extension": ".py",
   "mimetype": "text/x-python",
   "name": "python",
   "nbconvert_exporter": "python",
   "pygments_lexer": "ipython3",
   "version": "3.11.2"
  },
  "orig_nbformat": 4,
  "vscode": {
   "interpreter": {
    "hash": "0bb0d54e20d7c081b26c2c166f183528f73ceeec261144009ab6a2c66c6ba2cd"
   }
  }
 },
 "nbformat": 4,
 "nbformat_minor": 2
}
