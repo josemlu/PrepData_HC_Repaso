{
 "cells": [
  {
   "cell_type": "code",
   "execution_count": 5,
   "metadata": {},
   "outputs": [],
   "source": [
    "def DividirDosNumeros(dividendo, divisor):\n",
    "    '''\n",
    "    Esta función devuelve dos valores, la parte entera de la división y su resto\n",
    "    Recibe dos argumentos:\n",
    "        dividendo: El número que va a ser dividido\n",
    "        divisor: El número que va a dividir\n",
    "    Ej:\n",
    "        DividirDosNumeros(10,3) debe retornar 3, 1\n",
    "    '''\n",
    "    parte_entera = None\n",
    "    resto = None\n",
    "    #Tu código aca:\n",
    "    resto = dividendo%divisor\n",
    "    parte_entera = dividendo//divisor\n",
    "    return parte_entera, resto"
   ]
  },
  {
   "cell_type": "code",
   "execution_count": 9,
   "metadata": {},
   "outputs": [
    {
     "data": {
      "text/plain": [
       "(5, 2)"
      ]
     },
     "execution_count": 9,
     "metadata": {},
     "output_type": "execute_result"
    }
   ],
   "source": [
    "DividirDosNumeros(17,3)"
   ]
  },
  {
   "attachments": {},
   "cell_type": "markdown",
   "metadata": {},
   "source": [
    "PREGUNTA 2"
   ]
  },
  {
   "cell_type": "code",
   "execution_count": 18,
   "metadata": {},
   "outputs": [],
   "source": [
    "def ProximoPrimo(actual_primo):\n",
    "    '''\n",
    "    Esta función devuelve el número primo siguiente al enviado como parámetro.\n",
    "    En caso de que el parámetro no sea de tipo entero y/o no sea un número primo, debe retornar nulo.\n",
    "    Recibe un argumento:\n",
    "        actual_primo: Será el número primo a partir del cual debo buscar el siguiente\n",
    "    Ej:\n",
    "        ProximoPrimo(7) debe retornar 11\n",
    "        ProximoPrimo(8) debe retornar nulo\n",
    "    '''\n",
    "    #Tu código aca:\n",
    "    def primo(n):\n",
    "        primo = True\n",
    "        for i in range(2,n):\n",
    "            if (n%i==0):\n",
    "                primo = False\n",
    "                break\n",
    "        return primo \n",
    "\n",
    "    if type(actual_primo)!=int :\n",
    "        return None\n",
    "    elif primo(actual_primo)==False:\n",
    "        return None\n",
    "    else:\n",
    "        siguiente_primo = actual_primo+1\n",
    "        while(primo(siguiente_primo)==False):\n",
    "            siguiente_primo+=1\n",
    "\n",
    "    return siguiente_primo"
   ]
  },
  {
   "cell_type": "code",
   "execution_count": 21,
   "metadata": {},
   "outputs": [
    {
     "data": {
      "text/plain": [
       "149"
      ]
     },
     "execution_count": 21,
     "metadata": {},
     "output_type": "execute_result"
    }
   ],
   "source": [
    "ProximoPrimo(139)"
   ]
  },
  {
   "cell_type": "code",
   "execution_count": 11,
   "metadata": {},
   "outputs": [],
   "source": []
  },
  {
   "cell_type": "code",
   "execution_count": 17,
   "metadata": {},
   "outputs": [
    {
     "name": "stdout",
     "output_type": "stream",
     "text": [
      "3\n"
     ]
    }
   ],
   "source": [
    "actual_primo = 2\n",
    "\n",
    "\n",
    "print(siguiente_primo)"
   ]
  },
  {
   "cell_type": "code",
   "execution_count": null,
   "metadata": {},
   "outputs": [],
   "source": [
    "actual_primo = 7\n",
    "\n",
    "7, 8, 9, 10, 11, 12"
   ]
  },
  {
   "cell_type": "code",
   "execution_count": 14,
   "metadata": {},
   "outputs": [
    {
     "data": {
      "text/plain": [
       "False"
      ]
     },
     "execution_count": 14,
     "metadata": {},
     "output_type": "execute_result"
    }
   ],
   "source": [
    "primo(21)"
   ]
  },
  {
   "attachments": {},
   "cell_type": "markdown",
   "metadata": {},
   "source": [
    "Nulo = None"
   ]
  },
  {
   "cell_type": "code",
   "execution_count": 22,
   "metadata": {},
   "outputs": [],
   "source": [
    "def ClaseAnimal(especie, color):\n",
    "    '''\n",
    "    Esta función devuelve un objeto instanciado de la clase Animal, \n",
    "    la cual debe tener los siguientes atributos:\n",
    "        Edad    (Un valor de tipo de dato entero, que debe inicializarse en cero)\n",
    "        Especie (Un valor de tipo de dato string)\n",
    "        Color   (Un valor de tipo de dato string)\n",
    "    y debe tener el siguiente método:\n",
    "        CumplirAnios  (este método debe sumar uno al atributo Edad y debe devolver ese valor)\n",
    "    Recibe dos argumento:\n",
    "        especie: Dato que se asignará al atributo Especie del objeto de la clase Animal\n",
    "        color: Dato que se asignará al atributo Color del objeto de la clase Animal\n",
    "    Ej:\n",
    "        a = ClaseAnimal('perro','blanco')\n",
    "        a.CumplirAnios() -> debe devolver 1\n",
    "        a.CumplirAnios() -> debe devolver 2\n",
    "        a.CumplirAnios() -> debe devolver 3\n",
    "    '''\n",
    "    #Tu código aca:\n",
    "    class Animal:\n",
    "        def __init__(self,especie,color):\n",
    "            self.color = color\n",
    "            self.especie = especie\n",
    "            self.edad = 0\n",
    "        \n",
    "        def CumplirAnios(self):\n",
    "            self.edad += 1 #self.edad = self.edad + 1\n",
    "            return self.edad\n",
    "        \n",
    "    return Animal(especie, color)"
   ]
  },
  {
   "cell_type": "code",
   "execution_count": 26,
   "metadata": {},
   "outputs": [],
   "source": [
    "a = ClaseAnimal('perro','blanco')"
   ]
  },
  {
   "cell_type": "code",
   "execution_count": 31,
   "metadata": {},
   "outputs": [
    {
     "data": {
      "text/plain": [
       "4"
      ]
     },
     "execution_count": 31,
     "metadata": {},
     "output_type": "execute_result"
    }
   ],
   "source": [
    "a.CumplirAnios()"
   ]
  }
 ],
 "metadata": {
  "kernelspec": {
   "display_name": "Python 3",
   "language": "python",
   "name": "python3"
  },
  "language_info": {
   "codemirror_mode": {
    "name": "ipython",
    "version": 3
   },
   "file_extension": ".py",
   "mimetype": "text/x-python",
   "name": "python",
   "nbconvert_exporter": "python",
   "pygments_lexer": "ipython3",
   "version": "3.11.2"
  },
  "orig_nbformat": 4,
  "vscode": {
   "interpreter": {
    "hash": "0bb0d54e20d7c081b26c2c166f183528f73ceeec261144009ab6a2c66c6ba2cd"
   }
  }
 },
 "nbformat": 4,
 "nbformat_minor": 2
}
